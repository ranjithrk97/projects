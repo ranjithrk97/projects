{
 "cells": [
  {
   "cell_type": "code",
   "execution_count": 1,
   "metadata": {},
   "outputs": [],
   "source": [
    "# import the following libraries \n",
    "# will convert the image to text string \n",
    "import pytesseract\n",
    "# adds image processing capabilities \n",
    "from PIL import Image \n",
    "# converts the text to speech \n",
    "import pyttsx3\n",
    "# opening an image from the source path \n",
    "img = Image.open('a.jpg')"
   ]
  },
  {
   "cell_type": "code",
   "execution_count": 2,
   "metadata": {},
   "outputs": [
    {
     "name": "stdout",
     "output_type": "stream",
     "text": [
      "<PIL.JpegImagePlugin.JpegImageFile image mode=RGB size=1456x1769 at 0x1EB09D01A48>\n"
     ]
    }
   ],
   "source": [
    "# describes image format in the output \n",
    "print(img)"
   ]
  },
  {
   "cell_type": "code",
   "execution_count": 3,
   "metadata": {},
   "outputs": [],
   "source": [
    "# path where the tesseract module is installed \n",
    "pytesseract.pytesseract.tesseract_cmd = r'C:\\Program Files (x86)\\Tesseract-OCR\\tesseract.exe'\n",
    "# converts the image to result and saves it into result variable \n",
    "result = pytesseract.image_to_string(img) "
   ]
  },
  {
   "cell_type": "code",
   "execution_count": 4,
   "metadata": {},
   "outputs": [
    {
     "name": "stdout",
     "output_type": "stream",
     "text": [
      "“Forgive others,\n",
      "not because they\n",
      "deserve forgiveness,\n",
      "but because you\n",
      "\n",
      "deserve peace.”\n",
      "\n",
      "JONATHAN LOCKWOOD HUIE\n",
      "\n",
      "POPSUGAR.\n",
      "\f",
      "\n"
     ]
    }
   ],
   "source": [
    "print(result)"
   ]
  },
  {
   "cell_type": "code",
   "execution_count": 5,
   "metadata": {},
   "outputs": [],
   "source": [
    "engine = pyttsx3.init() \n",
    "\n",
    "# an audio will be played which speaks the test if pyttsx3 recognizes it \n",
    "engine.say(result)\n",
    "engine.runAndWait() \n"
   ]
  },
  {
   "cell_type": "code",
   "execution_count": null,
   "metadata": {},
   "outputs": [],
   "source": []
  }
 ],
 "metadata": {
  "kernelspec": {
   "display_name": "Python 3",
   "language": "python",
   "name": "python3"
  },
  "language_info": {
   "codemirror_mode": {
    "name": "ipython",
    "version": 3
   },
   "file_extension": ".py",
   "mimetype": "text/x-python",
   "name": "python",
   "nbconvert_exporter": "python",
   "pygments_lexer": "ipython3",
   "version": "3.7.4"
  }
 },
 "nbformat": 4,
 "nbformat_minor": 2
}
